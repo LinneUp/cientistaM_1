{
 "cells": [
  {
   "cell_type": "code",
   "execution_count": 18,
   "id": "18da08c9",
   "metadata": {},
   "outputs": [
    {
     "name": "stdout",
     "output_type": "stream",
     "text": [
      "Hello World\n"
     ]
    }
   ],
   "source": [
    "print (\"Hello World\")"
   ]
  },
  {
   "cell_type": "markdown",
   "id": "86d136a4",
   "metadata": {},
   "source": [
    "# Dados Pessoais"
   ]
  },
  {
   "cell_type": "code",
   "execution_count": 19,
   "id": "5e2a4fae",
   "metadata": {},
   "outputs": [],
   "source": [
    "name = (\"Douglas\")\n",
    "idade = (\"28 anos\")\n",
    "UF = (\"RS\")"
   ]
  },
  {
   "cell_type": "code",
   "execution_count": 20,
   "id": "c4b6b84a",
   "metadata": {},
   "outputs": [
    {
     "name": "stdout",
     "output_type": "stream",
     "text": [
      "Douglas 28 anos RS\n"
     ]
    }
   ],
   "source": [
    "print (name , idade , UF)"
   ]
  },
  {
   "cell_type": "code",
   "execution_count": null,
   "id": "c5eeb07d",
   "metadata": {},
   "outputs": [],
   "source": []
  }
 ],
 "metadata": {
  "kernelspec": {
   "display_name": "Python 3 (ipykernel)",
   "language": "python",
   "name": "python3"
  },
  "language_info": {
   "codemirror_mode": {
    "name": "ipython",
    "version": 3
   },
   "file_extension": ".py",
   "mimetype": "text/x-python",
   "name": "python",
   "nbconvert_exporter": "python",
   "pygments_lexer": "ipython3",
   "version": "3.9.12"
  }
 },
 "nbformat": 4,
 "nbformat_minor": 5
}
